{
 "cells": [
  {
   "cell_type": "markdown",
   "metadata": {},
   "source": [
    "# Step 1 - Building a text classifier using Term Frequency (TF) and Naive Bayes"
   ]
  },
  {
   "cell_type": "markdown",
   "metadata": {},
   "source": [
    "Load training and test data"
   ]
  },
  {
   "cell_type": "code",
   "execution_count": 1,
   "metadata": {},
   "outputs": [],
   "source": [
    "import pandas as pd\n",
    "\n",
    "# Load training and testing datasets\n",
    "train_df = pd.read_csv(\"train.csv\")\n",
    "test_df = pd.read_csv(\"test.csv\")"
   ]
  },
  {
   "cell_type": "code",
   "execution_count": 2,
   "metadata": {},
   "outputs": [],
   "source": [
    "# Concatenate both Title and Description as text input\n",
    "train_df['text_input'] = train_df['Title'] + \" \" + train_df['Description']\n",
    "test_df['text_input'] = test_df['Title'] + \" \" + test_df['Description']"
   ]
  },
  {
   "cell_type": "markdown",
   "metadata": {},
   "source": [
    "Convert Text into Term Frequency (TF) Features"
   ]
  },
  {
   "cell_type": "code",
   "execution_count": 3,
   "metadata": {},
   "outputs": [],
   "source": [
    "from sklearn.feature_extraction.text import CountVectorizer\n",
    "# Initialise CountVectorizer\n",
    "count_vect = CountVectorizer()\n",
    "\n",
    "# Fit on training data and transform both train & test data\n",
    "# Ensures both train and test sets uses the same word representation\n",
    "X_train = count_vect.fit_transform(train_df['text_input']) #learns the vocab and creates the term-frequency matrix\n",
    "X_test = count_vect.transform(test_df['text_input']) #applies the learned vocab to the test data"
   ]
  },
  {
   "cell_type": "code",
   "execution_count": 4,
   "metadata": {},
   "outputs": [],
   "source": [
    "# Extract class labels and convert 1-4 labels to 0-3 for sparse_categorical_crossentropy\n",
    "y_train = train_df['Class Index'].values - 1\n",
    "y_test = test_df['Class Index'].values - 1"
   ]
  },
  {
   "cell_type": "markdown",
   "metadata": {},
   "source": [
    "Train & Evaluate Naive Bayes Model"
   ]
  },
  {
   "cell_type": "code",
   "execution_count": 5,
   "metadata": {},
   "outputs": [
    {
     "name": "stdout",
     "output_type": "stream",
     "text": [
      "TF Training Accuracy: 0.917\n",
      "TF Testing Accuracy: 0.901\n"
     ]
    }
   ],
   "source": [
    "from sklearn.naive_bayes import MultinomialNB\n",
    "from sklearn.metrics import accuracy_score\n",
    "\n",
    "# Train the Naive Bayes model\n",
    "nb_classifier = MultinomialNB()\n",
    "nb_classifier.fit(X_train, y_train)\n",
    "\n",
    "# Predict on both training and test datasets\n",
    "y_train_pred = nb_classifier.predict(X_train)\n",
    "y_test_pred = nb_classifier.predict(X_test)\n",
    "\n",
    "# Compute accuracy\n",
    "tf_train_accuracy = accuracy_score(y_train, y_train_pred)\n",
    "tf_test_accuracy = accuracy_score(y_test, y_test_pred)\n",
    "\n",
    "print(f\"TF Training Accuracy: {tf_train_accuracy:.3f}\")\n",
    "print(f\"TF Testing Accuracy: {tf_test_accuracy:.3f}\")"
   ]
  },
  {
   "cell_type": "markdown",
   "metadata": {},
   "source": [
    "# Step 2 - Building a text classifier using TF-IDF"
   ]
  },
  {
   "cell_type": "code",
   "execution_count": 6,
   "metadata": {},
   "outputs": [
    {
     "name": "stdout",
     "output_type": "stream",
     "text": [
      "TF-IDF Training Accuracy: 0.917\n",
      "TF-IDF Testing Accuracy: 0.902\n",
      "\n",
      "Classification Report (Test Set):\n",
      "               precision    recall  f1-score   support\n",
      "\n",
      "           0       0.91      0.89      0.90      1900\n",
      "           1       0.95      0.98      0.96      1900\n",
      "           2       0.87      0.86      0.86      1900\n",
      "           3       0.88      0.88      0.88      1900\n",
      "\n",
      "    accuracy                           0.90      7600\n",
      "   macro avg       0.90      0.90      0.90      7600\n",
      "weighted avg       0.90      0.90      0.90      7600\n",
      "\n"
     ]
    }
   ],
   "source": [
    "from sklearn.feature_extraction.text import TfidfVectorizer\n",
    "from sklearn.metrics import accuracy_score, classification_report\n",
    "\n",
    "# Create a TF-IDF vectorizer and transform train & test data\n",
    "tfidf_vect = TfidfVectorizer()\n",
    "X_train_tfidf = tfidf_vect.fit_transform(train_df['text_input'])  # Fit and transform on training data\n",
    "X_test_tfidf = tfidf_vect.transform(test_df['text_input'])  # Transform on test data\n",
    "\n",
    "# Train Naive Bayes classifier\n",
    "nb_classifier = MultinomialNB()\n",
    "nb_classifier.fit(X_train_tfidf, y_train)\n",
    "\n",
    "# Predict on both training and testing data\n",
    "y_train_pred = nb_classifier.predict(X_train_tfidf)\n",
    "y_test_pred = nb_classifier.predict(X_test_tfidf)\n",
    "\n",
    "# Compute accuracy\n",
    "tf_idf_train_accuracy = accuracy_score(y_train, y_train_pred)\n",
    "tf_idf_test_accuracy = accuracy_score(y_test, y_test_pred)\n",
    "\n",
    "# Compute precision, recall, and F1-score\n",
    "classification_metrics = classification_report(y_test, y_test_pred)\n",
    "\n",
    "print(f\"TF-IDF Training Accuracy: {tf_idf_train_accuracy:.3f}\")\n",
    "print(f\"TF-IDF Testing Accuracy: {tf_idf_test_accuracy:.3f}\")\n",
    "print(\"\\nClassification Report (Test Set):\\n\", classification_metrics)"
   ]
  },
  {
   "cell_type": "markdown",
   "metadata": {},
   "source": [
    "# Step 3 - Building a text classifier using CNN"
   ]
  },
  {
   "cell_type": "code",
   "execution_count": 7,
   "metadata": {},
   "outputs": [],
   "source": [
    "import matplotlib.pyplot as plt\n",
    "import tensorflow as tf\n",
    "from tensorflow.keras.preprocessing.text import Tokenizer\n",
    "from tensorflow.keras.preprocessing.sequence import pad_sequences\n",
    "from tensorflow.keras.models import Sequential\n",
    "from tensorflow.keras.layers import Embedding, Conv1D, GlobalAveragePooling1D, Dense\n",
    "from tensorflow.keras.optimizers import Adam\n",
    "from tensorflow.keras.utils import to_categorical"
   ]
  },
  {
   "cell_type": "code",
   "execution_count": 8,
   "metadata": {},
   "outputs": [],
   "source": [
    "import numpy as np\n",
    "from collections import Counter\n",
    "\n",
    "# use 90th percentile for maxlen for memory efficiency\n",
    "text_lengths = [len(text.split()) for text in train_df[\"text_input\"]] # get sequence lengths\n",
    "maxlen = int(np.percentile(text_lengths, 90)) #compute 90th percentile length\n",
    "\n",
    "# find optimal vocab size\n",
    "all_words = \" \".join(train_df[\"text_input\"]).split()\n",
    "word_freq = Counter(all_words)\n",
    "total_unique_words = len(word_freq)\n",
    "vocab_size = min(50000, total_unique_words) # keep top 50,000 words or all if fewer"
   ]
  },
  {
   "cell_type": "code",
   "execution_count": 9,
   "metadata": {},
   "outputs": [],
   "source": [
    "# Tokenization & Sequence Conversion\n",
    "tokenizer = Tokenizer(num_words=vocab_size)  # Keep top K words\n",
    "tokenizer.fit_on_texts(train_df[\"text_input\"])\n",
    "\n",
    "# Convert text to integer sequences\n",
    "X_train_seq = tokenizer.texts_to_sequences(train_df[\"text_input\"])\n",
    "X_test_seq = tokenizer.texts_to_sequences(test_df[\"text_input\"])\n",
    "\n",
    "# Post padding sequences to a fixed length (ensuring uniform input size)\n",
    "X_train_pad = pad_sequences(X_train_seq, maxlen=maxlen, padding=\"post\")\n",
    "X_test_pad = pad_sequences(X_test_seq, maxlen=maxlen, padding=\"post\")"
   ]
  },
  {
   "cell_type": "code",
   "execution_count": 10,
   "metadata": {},
   "outputs": [],
   "source": [
    "# CNN model with random initialisation of embedding layer\n",
    "cnn_model = Sequential([\n",
    "    Embedding(input_dim=vocab_size, output_dim=50, input_length=maxlen, trainable=True),\n",
    "    Conv1D(filters=128, kernel_size=5, activation='relu'),\n",
    "    GlobalAveragePooling1D(),\n",
    "    Dense(32, activation='relu'),  # nonlinear fully connected transformation layer\n",
    "    Dense(4, activation='softmax')  # output layer for 4-class classification\n",
    "])"
   ]
  },
  {
   "cell_type": "code",
   "execution_count": 11,
   "metadata": {},
   "outputs": [
    {
     "name": "stdout",
     "output_type": "stream",
     "text": [
      "Model: \"sequential\"\n",
      "_________________________________________________________________\n",
      " Layer (type)                Output Shape              Param #   \n",
      "=================================================================\n",
      " embedding (Embedding)       (None, 48, 50)            2500000   \n",
      "                                                                 \n",
      " conv1d (Conv1D)             (None, 44, 128)           32128     \n",
      "                                                                 \n",
      " global_average_pooling1d (  (None, 128)               0         \n",
      " GlobalAveragePooling1D)                                         \n",
      "                                                                 \n",
      " dense (Dense)               (None, 32)                4128      \n",
      "                                                                 \n",
      " dense_1 (Dense)             (None, 4)                 132       \n",
      "                                                                 \n",
      "=================================================================\n",
      "Total params: 2536388 (9.68 MB)\n",
      "Trainable params: 2536388 (9.68 MB)\n",
      "Non-trainable params: 0 (0.00 Byte)\n",
      "_________________________________________________________________\n"
     ]
    }
   ],
   "source": [
    "# build the model before printing summary\n",
    "cnn_model.build((None, maxlen))\n",
    "\n",
    "# print model summary to check output shapes and verify trainable parameters\n",
    "cnn_model.summary()"
   ]
  },
  {
   "cell_type": "code",
   "execution_count": 12,
   "metadata": {},
   "outputs": [],
   "source": [
    "# Compile model\n",
    "cnn_model.compile(optimizer=Adam(learning_rate=0.001),\n",
    "                  loss=\"sparse_categorical_crossentropy\",\n",
    "                  metrics=[\"sparse_categorical_accuracy\"])"
   ]
  },
  {
   "cell_type": "code",
   "execution_count": 13,
   "metadata": {},
   "outputs": [
    {
     "name": "stdout",
     "output_type": "stream",
     "text": [
      "Epoch 1/10\n",
      "235/235 [==============================] - 12s 48ms/step - loss: 0.5075 - sparse_categorical_accuracy: 0.8307 - val_loss: 0.2608 - val_sparse_categorical_accuracy: 0.9141\n",
      "Epoch 2/10\n",
      "235/235 [==============================] - 13s 57ms/step - loss: 0.1956 - sparse_categorical_accuracy: 0.9354 - val_loss: 0.2547 - val_sparse_categorical_accuracy: 0.9113\n",
      "Epoch 3/10\n",
      "235/235 [==============================] - 11s 47ms/step - loss: 0.1447 - sparse_categorical_accuracy: 0.9512 - val_loss: 0.2647 - val_sparse_categorical_accuracy: 0.9128\n",
      "Epoch 4/10\n",
      "235/235 [==============================] - 11s 48ms/step - loss: 0.1128 - sparse_categorical_accuracy: 0.9617 - val_loss: 0.2897 - val_sparse_categorical_accuracy: 0.9089\n",
      "Epoch 5/10\n",
      "235/235 [==============================] - 11s 48ms/step - loss: 0.0908 - sparse_categorical_accuracy: 0.9693 - val_loss: 0.3247 - val_sparse_categorical_accuracy: 0.9051\n",
      "Epoch 6/10\n",
      "235/235 [==============================] - 12s 50ms/step - loss: 0.0743 - sparse_categorical_accuracy: 0.9747 - val_loss: 0.3622 - val_sparse_categorical_accuracy: 0.8986\n",
      "Epoch 7/10\n",
      "235/235 [==============================] - 15s 65ms/step - loss: 0.0629 - sparse_categorical_accuracy: 0.9786 - val_loss: 0.4116 - val_sparse_categorical_accuracy: 0.8947\n",
      "Epoch 8/10\n",
      "235/235 [==============================] - 14s 59ms/step - loss: 0.0539 - sparse_categorical_accuracy: 0.9815 - val_loss: 0.4472 - val_sparse_categorical_accuracy: 0.8930\n",
      "Epoch 9/10\n",
      "235/235 [==============================] - 13s 56ms/step - loss: 0.0473 - sparse_categorical_accuracy: 0.9835 - val_loss: 0.4974 - val_sparse_categorical_accuracy: 0.8884\n",
      "Epoch 10/10\n",
      "235/235 [==============================] - 14s 58ms/step - loss: 0.0426 - sparse_categorical_accuracy: 0.9853 - val_loss: 0.5271 - val_sparse_categorical_accuracy: 0.8903\n"
     ]
    }
   ],
   "source": [
    "# Train & Track Accuracy\n",
    "history = cnn_model.fit(\n",
    "    X_train_pad, y_train,\n",
    "    epochs=10,\n",
    "    batch_size=512,\n",
    "    validation_data=(X_test_pad, y_test),  # Use test data for validation\n",
    "    verbose=1\n",
    ")"
   ]
  },
  {
   "cell_type": "code",
   "execution_count": 14,
   "metadata": {},
   "outputs": [
    {
     "name": "stdout",
     "output_type": "stream",
     "text": [
      "238/238 [==============================] - 1s 3ms/step - loss: 0.5271 - sparse_categorical_accuracy: 0.8903\n",
      "\n",
      "Final Test Accuracy: 0.890\n"
     ]
    }
   ],
   "source": [
    "# Evaluate Model\n",
    "test_loss_cnn, test_acc_cnn = cnn_model.evaluate(X_test_pad, y_test)\n",
    "print(f\"\\nFinal Test Accuracy: {test_acc_cnn:.3f}\")"
   ]
  },
  {
   "cell_type": "code",
   "execution_count": 15,
   "metadata": {},
   "outputs": [
    {
     "data": {
      "image/png": "[encoded data removed]",
      "text/plain": [
       "<Figure size 648x432 with 1 Axes>"
      ]
     },
     "metadata": {
      "needs_background": "light"
     },
     "output_type": "display_data"
    }
   ],
   "source": [
    "# Plot Training & Validation Accuracy\n",
    "plt.figure(figsize=(9, 6))\n",
    "plt.plot(history.history[\"sparse_categorical_accuracy\"], label=\"Train Accuracy\")\n",
    "plt.plot(history.history[\"val_sparse_categorical_accuracy\"], label=\"Test Accuracy\")\n",
    "plt.xlabel(\"Epochs\")\n",
    "plt.ylabel(\"Accuracy\")\n",
    "plt.title(\"Training & Testing Accuracy Over 10 Epochs\")\n",
    "plt.legend()\n",
    "plt.show()"
   ]
  },
  {
   "cell_type": "markdown",
   "metadata": {},
   "source": [
    "# Step 4 - CNN text classifier using pre-trained word embeddings (GloVe)"
   ]
  },
  {
   "cell_type": "code",
   "execution_count": 16,
   "metadata": {},
   "outputs": [],
   "source": [
    "# Load pre-trained GloVe Embeddings\n",
    "glove_dim = 50  # using GloVe.6B.50d (each word is a 50-dimensional vector)\n",
    "glove_path = \"glove.6B.50d.txt\"  # path to GloVe file\n",
    "\n",
    "# Create a dictionary mapping words to their GloVe embeddings\n",
    "embeddings_index = {}\n",
    "\n",
    "with open(glove_path, \"r\", encoding=\"utf-8\") as f:\n",
    "    for line in f:\n",
    "        values = line.split()\n",
    "        word = values[0]  # The word itself\n",
    "        vector = np.asarray(values[1:], dtype=\"float32\")  # the embedding vector\n",
    "        embeddings_index[word] = vector  # store in dictionary"
   ]
  },
  {
   "cell_type": "code",
   "execution_count": 17,
   "metadata": {},
   "outputs": [],
   "source": [
    "# Create Embedding Matrix for Vocabulary\n",
    "# Random initialisation of small random values for words that don't exist in the GloVe vocab\n",
    "embedding_matrix = np.random.uniform(-0.05, 0.05, (vocab_size, glove_dim))  \n",
    "\n",
    "for word, i in tokenizer.word_index.items():\n",
    "    if i < vocab_size:  # only keep words in vocab\n",
    "        embedding_vector = embeddings_index.get(word)  # get GloVe vector\n",
    "        if embedding_vector is not None: # only assign if word exists in GloVe\n",
    "            embedding_matrix[i] = embedding_vector  # assign GloVe embedding"
   ]
  },
  {
   "cell_type": "code",
   "execution_count": 18,
   "metadata": {},
   "outputs": [],
   "source": [
    "# Define CNN Model Using GloVe Embeddings\n",
    "cnn_model_glove = Sequential([\n",
    "    Embedding(input_dim=vocab_size, \n",
    "              output_dim=glove_dim, \n",
    "              input_length=maxlen, \n",
    "              weights=[embedding_matrix],  # load GloVe embeddings\n",
    "              trainable=True),  # allow training on top of GloVe embeddings\n",
    "    Conv1D(filters=128, kernel_size=5, activation='relu'),\n",
    "    GlobalAveragePooling1D(),\n",
    "    Dense(32, activation='relu'),\n",
    "    Dense(4, activation='softmax')\n",
    "])"
   ]
  },
  {
   "cell_type": "code",
   "execution_count": 19,
   "metadata": {},
   "outputs": [
    {
     "name": "stdout",
     "output_type": "stream",
     "text": [
      "Epoch 1/10\n",
      "235/235 [==============================] - 25s 102ms/step - loss: 0.4093 - sparse_categorical_accuracy: 0.8684 - val_loss: 0.3161 - val_sparse_categorical_accuracy: 0.8918\n",
      "Epoch 2/10\n",
      "235/235 [==============================] - 20s 86ms/step - loss: 0.2745 - sparse_categorical_accuracy: 0.9085 - val_loss: 0.2753 - val_sparse_categorical_accuracy: 0.9080\n",
      "Epoch 3/10\n",
      "235/235 [==============================] - 19s 82ms/step - loss: 0.2306 - sparse_categorical_accuracy: 0.9228 - val_loss: 0.2568 - val_sparse_categorical_accuracy: 0.9114\n",
      "Epoch 4/10\n",
      "235/235 [==============================] - 15s 66ms/step - loss: 0.1971 - sparse_categorical_accuracy: 0.9342 - val_loss: 0.2467 - val_sparse_categorical_accuracy: 0.9158\n",
      "Epoch 5/10\n",
      "235/235 [==============================] - 15s 64ms/step - loss: 0.1689 - sparse_categorical_accuracy: 0.9435 - val_loss: 0.2595 - val_sparse_categorical_accuracy: 0.9139\n",
      "Epoch 6/10\n",
      "235/235 [==============================] - 14s 57ms/step - loss: 0.1447 - sparse_categorical_accuracy: 0.9516 - val_loss: 0.2571 - val_sparse_categorical_accuracy: 0.9166\n",
      "Epoch 7/10\n",
      "235/235 [==============================] - 14s 59ms/step - loss: 0.1228 - sparse_categorical_accuracy: 0.9584 - val_loss: 0.2623 - val_sparse_categorical_accuracy: 0.9174\n",
      "Epoch 8/10\n",
      "235/235 [==============================] - 17s 74ms/step - loss: 0.1048 - sparse_categorical_accuracy: 0.9645 - val_loss: 0.2848 - val_sparse_categorical_accuracy: 0.9118\n",
      "Epoch 9/10\n",
      "235/235 [==============================] - 14s 59ms/step - loss: 0.0907 - sparse_categorical_accuracy: 0.9691 - val_loss: 0.2984 - val_sparse_categorical_accuracy: 0.9133\n",
      "Epoch 10/10\n",
      "235/235 [==============================] - 13s 56ms/step - loss: 0.0760 - sparse_categorical_accuracy: 0.9741 - val_loss: 0.3483 - val_sparse_categorical_accuracy: 0.9058\n"
     ]
    }
   ],
   "source": [
    "# Compile & Train the Model\n",
    "cnn_model_glove.compile(optimizer=Adam(learning_rate=0.001),\n",
    "                  loss=\"sparse_categorical_crossentropy\",\n",
    "                  metrics=[\"sparse_categorical_accuracy\"])\n",
    "\n",
    "history_glove = cnn_model_glove.fit(\n",
    "    X_train_pad, y_train,\n",
    "    epochs=10,\n",
    "    batch_size=512,\n",
    "    validation_data=(X_test_pad, y_test),\n",
    "    verbose=1\n",
    ")"
   ]
  },
  {
   "cell_type": "code",
   "execution_count": 20,
   "metadata": {},
   "outputs": [
    {
     "name": "stdout",
     "output_type": "stream",
     "text": [
      "238/238 [==============================] - 1s 5ms/step - loss: 0.3483 - sparse_categorical_accuracy: 0.9058\n",
      "\n",
      "Final Test Accuracy with GloVe: 0.906\n"
     ]
    }
   ],
   "source": [
    "# Evaluate Model on Test Data\n",
    "test_loss_cnn_glove, test_acc_cnn_glove = cnn_model_glove.evaluate(X_test_pad, y_test)\n",
    "print(f\"\\nFinal Test Accuracy with GloVe: {test_acc_cnn_glove:.3f}\")"
   ]
  },
  {
   "cell_type": "code",
   "execution_count": 21,
   "metadata": {},
   "outputs": [
    {
     "name": "stdout",
     "output_type": "stream",
     "text": [
      "238/238 [==============================] - 2s 5ms/step\n"
     ]
    }
   ],
   "source": [
    "from sklearn.metrics import confusion_matrix\n",
    "\n",
    "# Compute & Plot Confusion Matrix\n",
    "y_test_pred = np.argmax(cnn_model_glove.predict(X_test_pad), axis=1)  # convert probabilities to class predictions\n",
    "conf_matrix = confusion_matrix(y_test, y_test_pred)"
   ]
  },
  {
   "cell_type": "code",
   "execution_count": 22,
   "metadata": {},
   "outputs": [
    {
     "data": {
      "image/png": "[encoded data removed]",
      "text/plain": [
       "<Figure size 432x360 with 2 Axes>"
      ]
     },
     "metadata": {
      "needs_background": "light"
     },
     "output_type": "display_data"
    }
   ],
   "source": [
    "import seaborn as sns\n",
    "# Plot Confusion Matrix\n",
    "plt.figure(figsize=(6, 5))\n",
    "sns.heatmap(conf_matrix, annot=True, fmt=\"d\", cmap=\"Blues\",\n",
    "            xticklabels=[\"Class 0\", \"Class 1\", \"Class 2\", \"Class 3\"],\n",
    "            yticklabels=[\"Class 0\", \"Class 1\", \"Class 2\", \"Class 3\"])\n",
    "plt.xlabel(\"Predicted Label\")\n",
    "plt.ylabel(\"True Label\")\n",
    "plt.title(\"Confusion Matrix - CNN with GloVe Embeddings\")\n",
    "plt.show()"
   ]
  },
  {
   "cell_type": "markdown",
   "metadata": {},
   "source": [
    "# Step 5 - Improved CNN-Based Classifier with Hyperparameter Tuning & Preprocessing"
   ]
  },
  {
   "cell_type": "code",
   "execution_count": 23,
   "metadata": {},
   "outputs": [],
   "source": [
    "import tensorflow as tf\n",
    "import re\n",
    "import nltk\n",
    "from nltk.corpus import stopwords\n",
    "from nltk.stem import PorterStemmer\n",
    "from sklearn.model_selection import train_test_split\n",
    "from tensorflow.keras.models import Sequential\n",
    "from tensorflow.keras.layers import Embedding, Conv1D, GlobalAveragePooling1D, Dense, Dropout, LSTM\n",
    "from tensorflow.keras.callbacks import EarlyStopping"
   ]
  },
  {
   "cell_type": "code",
   "execution_count": 24,
   "metadata": {},
   "outputs": [],
   "source": [
    "# re-load training and testing datasets for text preprocessing and tokenisation\n",
    "train_df = pd.read_csv(\"train.csv\")\n",
    "test_df = pd.read_csv(\"test.csv\")"
   ]
  },
  {
   "cell_type": "code",
   "execution_count": 25,
   "metadata": {},
   "outputs": [],
   "source": [
    "#nltk.download('stopwords') #download stopwords\n",
    "stop_words = set(stopwords.words('english'))\n",
    "stemmer = PorterStemmer()"
   ]
  },
  {
   "cell_type": "code",
   "execution_count": 26,
   "metadata": {},
   "outputs": [],
   "source": [
    "# Text Preprocessing (Removing stopwords, stemming)\n",
    "def preprocess_text(text):\n",
    "    text = text.lower()  # Lowercasing\n",
    "    text = re.sub(r'[^a-zA-Z0-9]', ' ', text)  # Remove special characters\n",
    "    words = text.split()\n",
    "    words = [stemmer.stem(word) for word in words if word not in stop_words]  # Remove stopwords & stem\n",
    "    return \" \".join(words)\n",
    "\n",
    "train_df[\"text_input\"] = (train_df[\"Title\"] + \" \" + train_df[\"Description\"]).apply(preprocess_text)\n",
    "test_df[\"text_input\"] = (test_df[\"Title\"] + \" \" + test_df[\"Description\"]).apply(preprocess_text)"
   ]
  },
  {
   "cell_type": "code",
   "execution_count": 27,
   "metadata": {},
   "outputs": [],
   "source": [
    "#Tokenize and pad preprocessed data\n",
    "tokenizer = Tokenizer(num_words=vocab_size)\n",
    "tokenizer.fit_on_texts(train_df[\"text_input\"])\n",
    "\n",
    "X_train_seq = tokenizer.texts_to_sequences(train_df[\"text_input\"])\n",
    "X_test_seq = tokenizer.texts_to_sequences(test_df[\"text_input\"])\n",
    "\n",
    "X_train_pad = pad_sequences(X_train_seq, maxlen=maxlen, padding=\"post\")\n",
    "X_test_pad = pad_sequences(X_test_seq, maxlen=maxlen, padding=\"post\")"
   ]
  },
  {
   "cell_type": "code",
   "execution_count": 28,
   "metadata": {},
   "outputs": [],
   "source": [
    "# Train-Validation Split (Keeping test set unseen)\n",
    "X_train, X_val, y_train, y_val = train_test_split(X_train_pad, y_train, test_size=0.2, random_state=42)"
   ]
  },
  {
   "cell_type": "code",
   "execution_count": 29,
   "metadata": {},
   "outputs": [],
   "source": [
    "# Add EarlyStopping for training stability and avoid overfitting\n",
    "early_stop = EarlyStopping(monitor=\"val_loss\", patience=3, restore_best_weights=True)"
   ]
  },
  {
   "cell_type": "code",
   "execution_count": 30,
   "metadata": {},
   "outputs": [],
   "source": [
    "# Define improved CNN Model with hyperparameter tuning\n",
    "cnn_model_tuned = Sequential([\n",
    "    Embedding(input_dim=vocab_size, \n",
    "              output_dim=glove_dim, \n",
    "              input_length=maxlen, \n",
    "              weights=[embedding_matrix], \n",
    "              trainable=True),\n",
    "    \n",
    "    Conv1D(filters=128, kernel_size=5, activation='relu'),\n",
    "    Dropout(0.5),  # Adding dropout to prevent overfitting\n",
    "    Conv1D(filters=64, kernel_size=3, activation='relu'),\n",
    "    LSTM(64, return_sequences=False),  # Added LSTM layer for better text understanding\n",
    "    Dense(64, activation='relu'),\n",
    "    Dropout(0.3),\n",
    "    Dense(4, activation='softmax')\n",
    "])"
   ]
  },
  {
   "cell_type": "code",
   "execution_count": 31,
   "metadata": {},
   "outputs": [
    {
     "name": "stdout",
     "output_type": "stream",
     "text": [
      "Epoch 1/15\n",
      "375/375 [==============================] - 60s 155ms/step - loss: 1.3388 - sparse_categorical_accuracy: 0.3343 - val_loss: 1.2351 - val_sparse_categorical_accuracy: 0.4260\n",
      "Epoch 2/15\n",
      "375/375 [==============================] - 53s 140ms/step - loss: 1.1420 - sparse_categorical_accuracy: 0.4846 - val_loss: 0.9799 - val_sparse_categorical_accuracy: 0.5770\n",
      "Epoch 3/15\n",
      "375/375 [==============================] - 52s 138ms/step - loss: 0.9026 - sparse_categorical_accuracy: 0.6161 - val_loss: 0.7446 - val_sparse_categorical_accuracy: 0.6981\n",
      "Epoch 4/15\n",
      "375/375 [==============================] - 52s 139ms/step - loss: 0.7216 - sparse_categorical_accuracy: 0.7080 - val_loss: 0.6161 - val_sparse_categorical_accuracy: 0.7611\n",
      "Epoch 5/15\n",
      "375/375 [==============================] - 52s 138ms/step - loss: 0.6153 - sparse_categorical_accuracy: 0.7614 - val_loss: 0.5727 - val_sparse_categorical_accuracy: 0.7789\n",
      "Epoch 6/15\n",
      "375/375 [==============================] - 51s 137ms/step - loss: 0.5502 - sparse_categorical_accuracy: 0.7953 - val_loss: 0.4969 - val_sparse_categorical_accuracy: 0.8164\n",
      "Epoch 7/15\n",
      "375/375 [==============================] - 74s 197ms/step - loss: 0.5014 - sparse_categorical_accuracy: 0.8167 - val_loss: 0.4887 - val_sparse_categorical_accuracy: 0.8150\n",
      "Epoch 8/15\n",
      "375/375 [==============================] - 61s 162ms/step - loss: 0.4627 - sparse_categorical_accuracy: 0.8340 - val_loss: 0.4459 - val_sparse_categorical_accuracy: 0.8381\n",
      "Epoch 9/15\n",
      "375/375 [==============================] - 60s 161ms/step - loss: 0.4316 - sparse_categorical_accuracy: 0.8465 - val_loss: 0.4295 - val_sparse_categorical_accuracy: 0.8444\n",
      "Epoch 10/15\n",
      "375/375 [==============================] - 64s 172ms/step - loss: 0.4043 - sparse_categorical_accuracy: 0.8596 - val_loss: 0.4098 - val_sparse_categorical_accuracy: 0.8547\n",
      "Epoch 11/15\n",
      "375/375 [==============================] - 60s 161ms/step - loss: 0.3820 - sparse_categorical_accuracy: 0.8686 - val_loss: 0.4032 - val_sparse_categorical_accuracy: 0.8595\n",
      "Epoch 12/15\n",
      "375/375 [==============================] - 59s 156ms/step - loss: 0.3581 - sparse_categorical_accuracy: 0.8773 - val_loss: 0.3808 - val_sparse_categorical_accuracy: 0.8679\n",
      "Epoch 13/15\n",
      "375/375 [==============================] - 59s 158ms/step - loss: 0.3430 - sparse_categorical_accuracy: 0.8854 - val_loss: 0.3630 - val_sparse_categorical_accuracy: 0.8765\n",
      "Epoch 14/15\n",
      "375/375 [==============================] - 59s 158ms/step - loss: 0.3271 - sparse_categorical_accuracy: 0.8910 - val_loss: 0.3542 - val_sparse_categorical_accuracy: 0.8788\n",
      "Epoch 15/15\n",
      "375/375 [==============================] - 63s 167ms/step - loss: 0.3115 - sparse_categorical_accuracy: 0.8970 - val_loss: 0.3543 - val_sparse_categorical_accuracy: 0.8817\n"
     ]
    }
   ],
   "source": [
    "# Compile & Train the Model (Learning Rate Adjusted)\n",
    "cnn_model_tuned.compile(optimizer=Adam(learning_rate=1e-4),  # Reduced learning rate\n",
    "                        loss=\"sparse_categorical_crossentropy\",\n",
    "                        metrics=[\"sparse_categorical_accuracy\"])\n",
    "\n",
    "history_tuned = cnn_model_tuned.fit(\n",
    "    X_train, y_train,\n",
    "    epochs=15,  \n",
    "    batch_size=256, \n",
    "    validation_data=(X_val, y_val),  # use validation set\n",
    "    callbacks=[early_stop],\n",
    "    verbose=1\n",
    ")"
   ]
  },
  {
   "cell_type": "code",
   "execution_count": 32,
   "metadata": {},
   "outputs": [
    {
     "name": "stdout",
     "output_type": "stream",
     "text": [
      "238/238 [==============================] - 2s 7ms/step - loss: 0.3593 - sparse_categorical_accuracy: 0.8780\n",
      "\n",
      " Final Test Accuracy with Hyperparameter Tuning: 0.878\n",
      "238/238 [==============================] - 2s 6ms/step\n"
     ]
    },
    {
     "data": {
      "image/png": "[encoded data removed]",
      "text/plain": [
       "<Figure size 432x360 with 2 Axes>"
      ]
     },
     "metadata": {
      "needs_background": "light"
     },
     "output_type": "display_data"
    }
   ],
   "source": [
    "# Evaluate Model on Test Data\n",
    "test_loss_v1, test_acc_v1 = cnn_model_tuned.evaluate(X_test_pad, y_test)\n",
    "print(f\"\\n Final Test Accuracy with Hyperparameter Tuning: {test_acc_v1:.3f}\")\n",
    "\n",
    "# Compute & Plot Confusion Matrix\n",
    "y_test_pred = np.argmax(cnn_model_tuned.predict(X_test_pad), axis=1)\n",
    "conf_matrix = confusion_matrix(y_test, y_test_pred)\n",
    "\n",
    "plt.figure(figsize=(6, 5))\n",
    "sns.heatmap(conf_matrix, annot=True, fmt=\"d\", cmap=\"Blues\",\n",
    "            xticklabels=[\"Class 0\", \"Class 1\", \"Class 2\", \"Class 3\"],\n",
    "            yticklabels=[\"Class 0\", \"Class 1\", \"Class 2\", \"Class 3\"])\n",
    "plt.xlabel(\"Predicted Label\")\n",
    "plt.ylabel(\"True Label\")\n",
    "plt.title(\"Confusion Matrix - Optimized CNN with GloVe & LSTM\")\n",
    "plt.show()"
   ]
  },
  {
   "cell_type": "code",
   "execution_count": 33,
   "metadata": {},
   "outputs": [
    {
     "name": "stdout",
     "output_type": "stream",
     "text": [
      "Epoch 1/15\n",
      "375/375 [==============================] - 49s 126ms/step - loss: 1.4033 - sparse_categorical_accuracy: 0.2722 - val_loss: 1.3685 - val_sparse_categorical_accuracy: 0.2937\n",
      "Epoch 2/15\n",
      "375/375 [==============================] - 47s 126ms/step - loss: 1.3200 - sparse_categorical_accuracy: 0.3554 - val_loss: 1.2368 - val_sparse_categorical_accuracy: 0.4378\n",
      "Epoch 3/15\n",
      "375/375 [==============================] - 83s 220ms/step - loss: 1.1361 - sparse_categorical_accuracy: 0.4851 - val_loss: 1.0133 - val_sparse_categorical_accuracy: 0.5715\n",
      "Epoch 4/15\n",
      "375/375 [==============================] - 74s 197ms/step - loss: 0.9021 - sparse_categorical_accuracy: 0.6166 - val_loss: 0.7567 - val_sparse_categorical_accuracy: 0.7092\n",
      "Epoch 5/15\n",
      "375/375 [==============================] - 71s 189ms/step - loss: 0.7069 - sparse_categorical_accuracy: 0.7172 - val_loss: 0.6006 - val_sparse_categorical_accuracy: 0.7750\n",
      "Epoch 6/15\n",
      "375/375 [==============================] - 68s 182ms/step - loss: 0.5900 - sparse_categorical_accuracy: 0.7740 - val_loss: 0.5252 - val_sparse_categorical_accuracy: 0.8081\n",
      "Epoch 7/15\n",
      "375/375 [==============================] - 65s 172ms/step - loss: 0.5172 - sparse_categorical_accuracy: 0.8072 - val_loss: 0.4732 - val_sparse_categorical_accuracy: 0.8298\n",
      "Epoch 8/15\n",
      "375/375 [==============================] - 62s 165ms/step - loss: 0.4719 - sparse_categorical_accuracy: 0.8291 - val_loss: 0.4399 - val_sparse_categorical_accuracy: 0.8421\n",
      "Epoch 9/15\n",
      "375/375 [==============================] - 62s 165ms/step - loss: 0.4349 - sparse_categorical_accuracy: 0.8470 - val_loss: 0.4190 - val_sparse_categorical_accuracy: 0.8515\n",
      "Epoch 10/15\n",
      "375/375 [==============================] - 64s 171ms/step - loss: 0.4062 - sparse_categorical_accuracy: 0.8587 - val_loss: 0.4031 - val_sparse_categorical_accuracy: 0.8577\n",
      "Epoch 11/15\n",
      "375/375 [==============================] - 66s 177ms/step - loss: 0.3835 - sparse_categorical_accuracy: 0.8678 - val_loss: 0.3815 - val_sparse_categorical_accuracy: 0.8683\n",
      "Epoch 12/15\n",
      "375/375 [==============================] - 64s 171ms/step - loss: 0.3627 - sparse_categorical_accuracy: 0.8762 - val_loss: 0.3674 - val_sparse_categorical_accuracy: 0.8747\n",
      "Epoch 13/15\n",
      "375/375 [==============================] - 65s 173ms/step - loss: 0.3415 - sparse_categorical_accuracy: 0.8845 - val_loss: 0.3576 - val_sparse_categorical_accuracy: 0.8778\n",
      "Epoch 14/15\n",
      "375/375 [==============================] - 66s 176ms/step - loss: 0.3277 - sparse_categorical_accuracy: 0.8907 - val_loss: 0.3462 - val_sparse_categorical_accuracy: 0.8837\n",
      "Epoch 15/15\n",
      "375/375 [==============================] - 66s 177ms/step - loss: 0.3107 - sparse_categorical_accuracy: 0.8965 - val_loss: 0.3371 - val_sparse_categorical_accuracy: 0.8851\n",
      "238/238 [==============================] - 2s 7ms/step - loss: 0.3399 - sparse_categorical_accuracy: 0.8851\n",
      "\\Final Test Accuracy - Deep CNN (no LSTM): 0.885\n",
      "238/238 [==============================] - 2s 6ms/step\n"
     ]
    },
    {
     "data": {
      "image/png": "[encoded data removed]",
      "text/plain": [
       "<Figure size 432x360 with 2 Axes>"
      ]
     },
     "metadata": {
      "needs_background": "light"
     },
     "output_type": "display_data"
    }
   ],
   "source": [
    "# Try a Deeper CNN without LSTM using\n",
    "# - 3 Conv1D layers\n",
    "# - Dropout + Global MaxPooling\n",
    "# - Fully connected layers with increased units\n",
    "from tensorflow.keras.layers import GlobalMaxPooling1D\n",
    "\n",
    "cnn_model_v2 = Sequential([\n",
    "    Embedding(input_dim=vocab_size, \n",
    "              output_dim=glove_dim, \n",
    "              input_length=maxlen, \n",
    "              weights=[embedding_matrix], \n",
    "              trainable=True),\n",
    "    \n",
    "    Conv1D(filters=128, kernel_size=5, activation='relu'),\n",
    "    Dropout(0.4),\n",
    "    \n",
    "    Conv1D(filters=128, kernel_size=5, activation='relu'),\n",
    "    Dropout(0.3),\n",
    "    \n",
    "    Conv1D(filters=64, kernel_size=3, activation='relu'),\n",
    "    GlobalMaxPooling1D(),\n",
    "    \n",
    "    Dense(64, activation='relu'),\n",
    "    Dropout(0.2),\n",
    "    Dense(4, activation='softmax')\n",
    "])\n",
    "\n",
    "cnn_model_v2.compile(optimizer=Adam(learning_rate=1e-4),\n",
    "                     loss=\"sparse_categorical_crossentropy\",\n",
    "                     metrics=[\"sparse_categorical_accuracy\"])\n",
    "\n",
    "history_v2 = cnn_model_v2.fit(\n",
    "    X_train, y_train,\n",
    "    epochs=15,\n",
    "    batch_size=256,\n",
    "    validation_data=(X_val, y_val),\n",
    "    verbose=1\n",
    ")\n",
    "\n",
    "# Evaluate\n",
    "test_loss_v2, test_acc_v2 = cnn_model_v2.evaluate(X_test_pad, y_test)\n",
    "print(f\"\\Final Test Accuracy - Deep CNN (no LSTM): {test_acc_v2:.3f}\")\n",
    "\n",
    "# Confusion Matrix\n",
    "y_test_pred_v2 = np.argmax(cnn_model_v2.predict(X_test_pad), axis=1)\n",
    "conf_matrix_v2 = confusion_matrix(y_test, y_test_pred_v2)\n",
    "\n",
    "plt.figure(figsize=(6, 5))\n",
    "sns.heatmap(conf_matrix_v2, annot=True, fmt=\"d\", cmap=\"Blues\",\n",
    "            xticklabels=[\"Class 0\", \"Class 1\", \"Class 2\", \"Class 3\"],\n",
    "            yticklabels=[\"Class 0\", \"Class 1\", \"Class 2\", \"Class 3\"])\n",
    "plt.xlabel(\"Predicted Label\")\n",
    "plt.ylabel(\"True Label\")\n",
    "plt.title(\"Confusion Matrix - Deep CNN (GloVe, No LSTM)\")\n",
    "plt.show()\n"
   ]
  },
  {
   "cell_type": "code",
   "execution_count": 34,
   "metadata": {},
   "outputs": [],
   "source": [
    "from tensorflow.keras.layers import (\n",
    "    Input, Embedding, Conv1D, GlobalMaxPooling1D,\n",
    "    Concatenate, Bidirectional, LSTM, Dense, Dropout\n",
    ")\n",
    "from tensorflow.keras.models import Model"
   ]
  },
  {
   "cell_type": "code",
   "execution_count": 37,
   "metadata": {},
   "outputs": [
    {
     "name": "stdout",
     "output_type": "stream",
     "text": [
      "Model: \"model\"\n",
      "__________________________________________________________________________________________________\n",
      " Layer (type)                Output Shape                 Param #   Connected to                  \n",
      "==================================================================================================\n",
      " input_3 (InputLayer)        [(None, 48)]                 0         []                            \n",
      "                                                                                                  \n",
      " embedding_6 (Embedding)     (None, 48, 50)               2500000   ['input_3[0][0]']             \n",
      "                                                                                                  \n",
      " conv1d_13 (Conv1D)          (None, 46, 64)               9664      ['embedding_6[0][0]']         \n",
      "                                                                                                  \n",
      " conv1d_14 (Conv1D)          (None, 45, 64)               12864     ['embedding_6[0][0]']         \n",
      "                                                                                                  \n",
      " conv1d_15 (Conv1D)          (None, 44, 64)               16064     ['embedding_6[0][0]']         \n",
      "                                                                                                  \n",
      " global_max_pooling1d_7 (Gl  (None, 64)                   0         ['conv1d_13[0][0]']           \n",
      " obalMaxPooling1D)                                                                                \n",
      "                                                                                                  \n",
      " global_max_pooling1d_8 (Gl  (None, 64)                   0         ['conv1d_14[0][0]']           \n",
      " obalMaxPooling1D)                                                                                \n",
      "                                                                                                  \n",
      " global_max_pooling1d_9 (Gl  (None, 64)                   0         ['conv1d_15[0][0]']           \n",
      " obalMaxPooling1D)                                                                                \n",
      "                                                                                                  \n",
      " concatenate_2 (Concatenate  (None, 192)                  0         ['global_max_pooling1d_7[0][0]\n",
      " )                                                                  ',                            \n",
      "                                                                     'global_max_pooling1d_8[0][0]\n",
      "                                                                    ',                            \n",
      "                                                                     'global_max_pooling1d_9[0][0]\n",
      "                                                                    ']                            \n",
      "                                                                                                  \n",
      " dropout_8 (Dropout)         (None, 192)                  0         ['concatenate_2[0][0]']       \n",
      "                                                                                                  \n",
      " dense_10 (Dense)            (None, 64)                   12352     ['dropout_8[0][0]']           \n",
      "                                                                                                  \n",
      " dropout_9 (Dropout)         (None, 64)                   0         ['dense_10[0][0]']            \n",
      "                                                                                                  \n",
      " dense_11 (Dense)            (None, 4)                    260       ['dropout_9[0][0]']           \n",
      "                                                                                                  \n",
      "==================================================================================================\n",
      "Total params: 2551204 (9.73 MB)\n",
      "Trainable params: 2551204 (9.73 MB)\n",
      "Non-trainable params: 0 (0.00 Byte)\n",
      "__________________________________________________________________________________________________\n",
      "Epoch 1/15\n",
      "375/375 [==============================] - 25s 62ms/step - loss: 1.6457 - sparse_categorical_accuracy: 0.2535 - val_loss: 1.3861 - val_sparse_categorical_accuracy: 0.2535\n",
      "Epoch 2/15\n",
      "375/375 [==============================] - 28s 74ms/step - loss: 1.4067 - sparse_categorical_accuracy: 0.2590 - val_loss: 1.3863 - val_sparse_categorical_accuracy: 0.2490\n",
      "Epoch 3/15\n",
      "375/375 [==============================] - 32s 86ms/step - loss: 1.3924 - sparse_categorical_accuracy: 0.2617 - val_loss: 1.3863 - val_sparse_categorical_accuracy: 0.2481\n",
      "Epoch 4/15\n",
      "375/375 [==============================] - 27s 71ms/step - loss: 1.3877 - sparse_categorical_accuracy: 0.2641 - val_loss: 1.3859 - val_sparse_categorical_accuracy: 0.2537\n",
      "Epoch 5/15\n",
      "375/375 [==============================] - 33s 88ms/step - loss: 1.3808 - sparse_categorical_accuracy: 0.2791 - val_loss: 1.3737 - val_sparse_categorical_accuracy: 0.3206\n",
      "Epoch 6/15\n",
      "375/375 [==============================] - 24s 64ms/step - loss: 1.3670 - sparse_categorical_accuracy: 0.3037 - val_loss: 1.3376 - val_sparse_categorical_accuracy: 0.4139\n",
      "Epoch 7/15\n",
      "375/375 [==============================] - 24s 63ms/step - loss: 1.3394 - sparse_categorical_accuracy: 0.3353 - val_loss: 1.2897 - val_sparse_categorical_accuracy: 0.4581\n",
      "Epoch 8/15\n",
      "375/375 [==============================] - 26s 68ms/step - loss: 1.2964 - sparse_categorical_accuracy: 0.3782 - val_loss: 1.2315 - val_sparse_categorical_accuracy: 0.5028\n",
      "Epoch 9/15\n",
      "375/375 [==============================] - 24s 64ms/step - loss: 1.2275 - sparse_categorical_accuracy: 0.4356 - val_loss: 1.1091 - val_sparse_categorical_accuracy: 0.5574\n",
      "Epoch 10/15\n",
      "375/375 [==============================] - 25s 66ms/step - loss: 1.1212 - sparse_categorical_accuracy: 0.5051 - val_loss: 0.9575 - val_sparse_categorical_accuracy: 0.6366\n",
      "Epoch 11/15\n",
      "375/375 [==============================] - 25s 67ms/step - loss: 0.9909 - sparse_categorical_accuracy: 0.5830 - val_loss: 0.8194 - val_sparse_categorical_accuracy: 0.6964\n",
      "Epoch 12/15\n",
      "375/375 [==============================] - 25s 65ms/step - loss: 0.8783 - sparse_categorical_accuracy: 0.6385 - val_loss: 0.7267 - val_sparse_categorical_accuracy: 0.7351\n",
      "Epoch 13/15\n",
      "375/375 [==============================] - 24s 65ms/step - loss: 0.7896 - sparse_categorical_accuracy: 0.6842 - val_loss: 0.6569 - val_sparse_categorical_accuracy: 0.7612\n",
      "Epoch 14/15\n",
      "375/375 [==============================] - 24s 65ms/step - loss: 0.7196 - sparse_categorical_accuracy: 0.7181 - val_loss: 0.6048 - val_sparse_categorical_accuracy: 0.7830\n",
      "Epoch 15/15\n",
      "375/375 [==============================] - 24s 64ms/step - loss: 0.6628 - sparse_categorical_accuracy: 0.7477 - val_loss: 0.5608 - val_sparse_categorical_accuracy: 0.8015\n",
      "238/238 [==============================] - 1s 2ms/step - loss: 0.5584 - sparse_categorical_accuracy: 0.7979\n",
      "\\ Final Test Accuracy - CNN + Multi-Kernel: 0.798\n",
      "238/238 [==============================] - 1s 2ms/step\n"
     ]
    },
    {
     "data": {
      "image/png": "[encoded data removed]",
      "text/plain": [
       "<Figure size 432x360 with 2 Axes>"
      ]
     },
     "metadata": {
      "needs_background": "light"
     },
     "output_type": "display_data"
    }
   ],
   "source": [
    "#Try multi-kernel CNN model\n",
    "\n",
    "input_layer = Input(shape=(maxlen,))\n",
    "embedding_layer = Embedding(input_dim=vocab_size,\n",
    "                            output_dim=glove_dim,\n",
    "                            weights=[embedding_matrix],\n",
    "                            input_length=maxlen,\n",
    "                            trainable=True)(input_layer)\n",
    "\n",
    "# Multiple convolutional filters (kernel sizes 3, 4, 5)\n",
    "conv_3 = Conv1D(filters=64, kernel_size=3, activation='relu')(embedding_layer)\n",
    "conv_4 = Conv1D(filters=64, kernel_size=4, activation='relu')(embedding_layer)\n",
    "conv_5 = Conv1D(filters=64, kernel_size=5, activation='relu')(embedding_layer)\n",
    "\n",
    "pool_3 = GlobalMaxPooling1D()(conv_3)\n",
    "pool_4 = GlobalMaxPooling1D()(conv_4)\n",
    "pool_5 = GlobalMaxPooling1D()(conv_5)\n",
    "\n",
    "# Merge the pooled outputs\n",
    "merged = Concatenate()([pool_3, pool_4, pool_5])\n",
    "drop = Dropout(0.5)(merged)\n",
    "\n",
    "# Dense layers\n",
    "dense = Dense(64, activation='relu')(drop)\n",
    "drop_final = Dropout(0.3)(dense)\n",
    "output = Dense(4, activation='softmax')(drop_final)\n",
    "\n",
    "# Build model\n",
    "cnn_model_v3 = Model(inputs=input_layer, outputs=output)\n",
    "cnn_model_v3.compile(optimizer=Adam(learning_rate=1e-4),\n",
    "              loss='sparse_categorical_crossentropy',\n",
    "              metrics=['sparse_categorical_accuracy'])\n",
    "\n",
    "cnn_model_v3.summary()\n",
    "\n",
    "# Early stopping\n",
    "early_stop = EarlyStopping(monitor='val_loss', patience=3, restore_best_weights=True)\n",
    "\n",
    "# Fit model\n",
    "history_v3 = cnn_model_v3.fit(\n",
    "    X_train, y_train,\n",
    "    epochs=15,\n",
    "    batch_size=256,\n",
    "    validation_data=(X_val, y_val),\n",
    "    callbacks=[early_stop],\n",
    "    verbose=1\n",
    ")\n",
    "\n",
    "# Final evaluation on unseen test data\n",
    "test_loss_v3, test_acc_v3 = cnn_model_v3.evaluate(X_test_pad, y_test)\n",
    "print(f\"\\ Final Test Accuracy - CNN + Multi-Kernel: {test_acc_v3:.3f}\")\n",
    "\n",
    "# Confusion Matrix\n",
    "y_test_pred = np.argmax(cnn_model_v3.predict(X_test_pad), axis=1)\n",
    "conf_matrix_v3 = confusion_matrix(y_test, y_test_pred)\n",
    "\n",
    "plt.figure(figsize=(6, 5))\n",
    "sns.heatmap(conf_matrix_v3, annot=True, fmt=\"d\", cmap=\"Blues\",\n",
    "            xticklabels=[\"Class 0\", \"Class 1\", \"Class 2\", \"Class 3\"],\n",
    "            yticklabels=[\"Class 0\", \"Class 1\", \"Class 2\", \"Class 3\"])\n",
    "plt.xlabel(\"Predicted Label\")\n",
    "plt.ylabel(\"True Label\")\n",
    "plt.title(\"Confusion Matrix - CNN + Multi-Kernel\")\n",
    "plt.show()"
   ]
  },
  {
   "cell_type": "code",
   "execution_count": 39,
   "metadata": {},
   "outputs": [
    {
     "name": "stdout",
     "output_type": "stream",
     "text": [
      "Summary of Test Accuracy Across All Models:\n"
     ]
    },
    {
     "data": {
      "text/html": [
       "<div>\n",
       "<style scoped>\n",
       "    .dataframe tbody tr th:only-of-type {\n",
       "        vertical-align: middle;\n",
       "    }\n",
       "\n",
       "    .dataframe tbody tr th {\n",
       "        vertical-align: top;\n",
       "    }\n",
       "\n",
       "    .dataframe thead th {\n",
       "        text-align: right;\n",
       "    }\n",
       "</style>\n",
       "<table border=\"1\" class=\"dataframe\">\n",
       "  <thead>\n",
       "    <tr style=\"text-align: right;\">\n",
       "      <th></th>\n",
       "      <th>Model</th>\n",
       "      <th>Test Accuracy</th>\n",
       "      <th>Notes</th>\n",
       "    </tr>\n",
       "  </thead>\n",
       "  <tbody>\n",
       "    <tr>\n",
       "      <th>3</th>\n",
       "      <td>4. CNN + GloVe (Pre-trained)</td>\n",
       "      <td>0.905789</td>\n",
       "      <td>Used GloVe.6B.50d embeddings; trainable layer</td>\n",
       "    </tr>\n",
       "    <tr>\n",
       "      <th>1</th>\n",
       "      <td>2. TF-IDF + Naive Bayes</td>\n",
       "      <td>0.902237</td>\n",
       "      <td>Used TfidfVectorizer instead of TF</td>\n",
       "    </tr>\n",
       "    <tr>\n",
       "      <th>0</th>\n",
       "      <td>1. Term Frequency + Naive Bayes</td>\n",
       "      <td>0.900921</td>\n",
       "      <td>Used CountVectorizer (TF) and Multinomial Naiv...</td>\n",
       "    </tr>\n",
       "    <tr>\n",
       "      <th>2</th>\n",
       "      <td>3. CNN (Random Initialised Embeddings)</td>\n",
       "      <td>0.890263</td>\n",
       "      <td>Embedding layer initialized randomly, trained ...</td>\n",
       "    </tr>\n",
       "    <tr>\n",
       "      <th>5</th>\n",
       "      <td>6. (Variant): Deep CNN + GloVe (No LSTM)</td>\n",
       "      <td>0.885132</td>\n",
       "      <td>Deeper CNN with 3 Conv1D layers, GlobalMaxPool...</td>\n",
       "    </tr>\n",
       "    <tr>\n",
       "      <th>4</th>\n",
       "      <td>5. CNN + GloVe + Tuning + LSTM</td>\n",
       "      <td>0.878026</td>\n",
       "      <td>Preprocessing (stopwords + stemming), Bidirect...</td>\n",
       "    </tr>\n",
       "    <tr>\n",
       "      <th>6</th>\n",
       "      <td>7. (Variant): CNN + Multi-Kernel</td>\n",
       "      <td>0.797895</td>\n",
       "      <td>Tested kernel sizes (3, 4, 5);</td>\n",
       "    </tr>\n",
       "  </tbody>\n",
       "</table>\n",
       "</div>"
      ],
      "text/plain": [
       "                                      Model  Test Accuracy  \\\n",
       "3              4. CNN + GloVe (Pre-trained)       0.905789   \n",
       "1                   2. TF-IDF + Naive Bayes       0.902237   \n",
       "0           1. Term Frequency + Naive Bayes       0.900921   \n",
       "2    3. CNN (Random Initialised Embeddings)       0.890263   \n",
       "5  6. (Variant): Deep CNN + GloVe (No LSTM)       0.885132   \n",
       "4            5. CNN + GloVe + Tuning + LSTM       0.878026   \n",
       "6          7. (Variant): CNN + Multi-Kernel       0.797895   \n",
       "\n",
       "                                               Notes  \n",
       "3      Used GloVe.6B.50d embeddings; trainable layer  \n",
       "1                 Used TfidfVectorizer instead of TF  \n",
       "0  Used CountVectorizer (TF) and Multinomial Naiv...  \n",
       "2  Embedding layer initialized randomly, trained ...  \n",
       "5  Deeper CNN with 3 Conv1D layers, GlobalMaxPool...  \n",
       "4  Preprocessing (stopwords + stemming), Bidirect...  \n",
       "6                     Tested kernel sizes (3, 4, 5);  "
      ]
     },
     "metadata": {},
     "output_type": "display_data"
    }
   ],
   "source": [
    "# Store test accuracy results for all steps\n",
    "results_summary = pd.DataFrame([\n",
    "    {\n",
    "        \"Model\": \"1. Term Frequency + Naive Bayes\",\n",
    "        \"Test Accuracy\": tf_test_accuracy,\n",
    "        \"Notes\": \"Used CountVectorizer (TF) and Multinomial Naive Bayes classifier\"\n",
    "    },\n",
    "    {\n",
    "        \"Model\": \"2. TF-IDF + Naive Bayes\",\n",
    "        \"Test Accuracy\": tf_idf_test_accuracy,\n",
    "        \"Notes\": \"Used TfidfVectorizer instead of TF\"\n",
    "    },\n",
    "    {\n",
    "        \"Model\": \"3. CNN (Random Initialised Embeddings)\",\n",
    "        \"Test Accuracy\": test_acc_cnn,\n",
    "        \"Notes\": \"Embedding layer initialized randomly, trained with Conv1D, no pre-trained vectors\"\n",
    "    },\n",
    "    {\n",
    "        \"Model\": \"4. CNN + GloVe (Pre-trained)\",\n",
    "        \"Test Accuracy\": test_acc_cnn_glove,\n",
    "        \"Notes\": \"Used GloVe.6B.50d embeddings; trainable layer\"\n",
    "    },\n",
    "    {\n",
    "        \"Model\": \"5. CNN + GloVe + Tuning + LSTM\",\n",
    "        \"Test Accuracy\": test_acc_v1,\n",
    "        \"Notes\": (\n",
    "            \"Preprocessing (stopwords + stemming), Bidirectional LSTM, \"\n",
    "            \"Dropout, reduced learning rate, tuned batch size, early stopping\"\n",
    "        )\n",
    "    },\n",
    "    {\n",
    "        \"Model\": \"6. (Variant): Deep CNN + GloVe (No LSTM)\",\n",
    "        \"Test Accuracy\": test_acc_v2,\n",
    "        \"Notes\": (\n",
    "            \"Deeper CNN with 3 Conv1D layers, GlobalMaxPooling, Dropout, \"\n",
    "            \"no LSTM; focused on hierarchical feature extraction\"\n",
    "        )\n",
    "    },\n",
    "    {\n",
    "        \"Model\": \"7. (Variant): CNN + Multi-Kernel\",\n",
    "        \"Test Accuracy\": test_acc_v3,\n",
    "        \"Notes\": (\n",
    "            \"Tested kernel sizes (3, 4, 5);\"\n",
    "        )\n",
    "    }\n",
    "])\n",
    "\n",
    "print(\"Summary of Test Accuracy Across All Models:\")\n",
    "display(results_summary.sort_values(\"Test Accuracy\", ascending=False))"
   ]
  },
  {
   "cell_type": "code",
   "execution_count": 43,
   "metadata": {},
   "outputs": [
    {
     "data": {
      "image/png": "[encoded data removed]",
      "text/plain": [
       "<Figure size 720x360 with 1 Axes>"
      ]
     },
     "metadata": {
      "needs_background": "light"
     },
     "output_type": "display_data"
    }
   ],
   "source": [
    "plt.figure(figsize=(10, 5))\n",
    "sns.barplot(data=results_summary.sort_values(\"Test Accuracy\", ascending=False), x=\"Test Accuracy\", y=\"Model\", palette=\"Blues_d\")\n",
    "plt.title(\"Test Accuracy Comparison across 7 different models\")\n",
    "plt.xlim(0.75, 0.92)\n",
    "plt.xlabel(\"Test Accuracy\")\n",
    "plt.ylabel(\"Model\")\n",
    "plt.show()"
   ]
  }
 ],
 "metadata": {
  "kernelspec": {
   "display_name": "Python 3",
   "language": "python",
   "name": "python3"
  },
  "language_info": {
   "codemirror_mode": {
    "name": "ipython",
    "version": 3
   },
   "file_extension": ".py",
   "mimetype": "text/x-python",
   "name": "python",
   "nbconvert_exporter": "python",
   "pygments_lexer": "ipython3",
   "version": "3.8.5"
  }
 },
 "nbformat": 4,
 "nbformat_minor": 4
}
